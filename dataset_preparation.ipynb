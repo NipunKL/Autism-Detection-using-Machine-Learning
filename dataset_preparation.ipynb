{
 "cells": [
  {
   "cell_type": "code",
   "execution_count": 1,
   "id": "08526bed-f3e8-44f9-a47a-c7d72f6bed12",
   "metadata": {},
   "outputs": [
    {
     "name": "stdout",
     "output_type": "stream",
     "text": [
      "Dataset saved to autism_combinations_predictions_sampled1.csv\n"
     ]
    }
   ],
   "source": [
    "import pandas as pd\n",
    "import numpy as np\n",
    "import itertools\n",
    "\n",
    "# Load the dataset\n",
    "csv_file_path = 'autism_prediction_dataset.csv'\n",
    "data = pd.read_csv(csv_file_path)\n",
    "\n",
    "# Define the sections with the number of questions in each\n",
    "sections = {\n",
    "    'A1a': 8,\n",
    "    'A1b': 4,\n",
    "    'A1c': 3,\n",
    "    'A2a': 7,\n",
    "    'A2b': 1,\n",
    "    'A2c': 1,\n",
    "    'A2d': 4\n",
    "}\n",
    "\n",
    "# Define the expected responses for each question\n",
    "expected_responses = data['Expected_Response'].tolist()\n",
    "\n",
    "# Function to check conditions and predict autism\n",
    "def predict_autism(response_combination):\n",
    "    section_fulfilled = {}\n",
    "    start = 0\n",
    "    for section, count in sections.items():\n",
    "        section_responses = response_combination[start:start+count]\n",
    "        expected_section_responses = expected_responses[start:start+count]\n",
    "        section_fulfilled[section] = any([section_responses[i] == expected_section_responses[i] for i in range(count)])\n",
    "        start += count\n",
    "    \n",
    "    social_communication_fulfilled = all([section_fulfilled[sec] for sec in ['A1a', 'A1b', 'A1c']])\n",
    "    restrictive_behavior_fulfilled = sum([section_fulfilled[sec] for sec in ['A2a', 'A2b', 'A2c', 'A2d']]) >= 2\n",
    "    \n",
    "    if social_communication_fulfilled and restrictive_behavior_fulfilled:\n",
    "        return 'Autism'\n",
    "    else:\n",
    "        return 'No Autism'\n",
    "\n",
    "# Number of samples to generate\n",
    "num_samples = 2500000  # Adjust this as needed\n",
    "\n",
    "# Randomly sample from all possible combinations\n",
    "np.random.seed(42)  # For reproducibility\n",
    "combinations = [np.random.choice(['yes', 'no'], size=28) for _ in range(num_samples)]\n",
    "\n",
    "# Create the DataFrame\n",
    "columns = [f'Q{i+1}' for i in range(28)] + ['Prediction']\n",
    "data = [list(comb) + [predict_autism(comb)] for comb in combinations]\n",
    "\n",
    "df = pd.DataFrame(data, columns=columns)\n",
    "\n",
    "# Save to CSV\n",
    "output_file_path = 'autism_combinations_predictions_sampled1.csv'\n",
    "df.to_csv(output_file_path, index=False)\n",
    "\n",
    "print(f'Dataset saved to {output_file_path}')\n"
   ]
  },
  {
   "cell_type": "code",
   "execution_count": null,
   "id": "fd6241eb-0f60-45d0-b099-9a2e8146f1ff",
   "metadata": {},
   "outputs": [],
   "source": []
  }
 ],
 "metadata": {
  "kernelspec": {
   "display_name": "Python 3 (ipykernel)",
   "language": "python",
   "name": "python3"
  },
  "language_info": {
   "codemirror_mode": {
    "name": "ipython",
    "version": 3
   },
   "file_extension": ".py",
   "mimetype": "text/x-python",
   "name": "python",
   "nbconvert_exporter": "python",
   "pygments_lexer": "ipython3",
   "version": "3.11.7"
  }
 },
 "nbformat": 4,
 "nbformat_minor": 5
}
